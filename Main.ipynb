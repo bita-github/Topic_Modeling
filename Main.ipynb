{
 "cells": [
  {
   "cell_type": "markdown",
   "metadata": {},
   "source": [
    "## Topic Modeling"
   ]
  },
  {
   "cell_type": "code",
   "execution_count": 1,
   "metadata": {},
   "outputs": [],
   "source": [
    "import gensim # LDA\n",
    "import pandas as pd # working with dataframe\n",
    "import nltk # tokenization, remove stopwords\n",
    "from nltk.stem import WordNetLemmatizer, SnowballStemmer # stemming and lemmatization \n",
    "from sklearn.cluster import KMeans # Unsupervised clustering KMeans"
   ]
  },
  {
   "cell_type": "code",
   "execution_count": 2,
   "metadata": {},
   "outputs": [
    {
     "name": "stderr",
     "output_type": "stream",
     "text": [
      "[nltk_data] Downloading package wordnet to /Users/bita/nltk_data...\n",
      "[nltk_data]   Package wordnet is already up-to-date!\n"
     ]
    },
    {
     "data": {
      "text/plain": [
       "True"
      ]
     },
     "execution_count": 2,
     "metadata": {},
     "output_type": "execute_result"
    }
   ],
   "source": [
    "nltk.download('wordnet')"
   ]
  },
  {
   "cell_type": "markdown",
   "metadata": {},
   "source": [
    "### Reading data into dataframe"
   ]
  },
  {
   "cell_type": "code",
   "execution_count": 3,
   "metadata": {},
   "outputs": [
    {
     "data": {
      "text/html": [
       "<div>\n",
       "<style scoped>\n",
       "    .dataframe tbody tr th:only-of-type {\n",
       "        vertical-align: middle;\n",
       "    }\n",
       "\n",
       "    .dataframe tbody tr th {\n",
       "        vertical-align: top;\n",
       "    }\n",
       "\n",
       "    .dataframe thead th {\n",
       "        text-align: right;\n",
       "    }\n",
       "</style>\n",
       "<table border=\"1\" class=\"dataframe\">\n",
       "  <thead>\n",
       "    <tr style=\"text-align: right;\">\n",
       "      <th></th>\n",
       "      <th>Article</th>\n",
       "      <th>NewsType</th>\n",
       "    </tr>\n",
       "  </thead>\n",
       "  <tbody>\n",
       "    <tr>\n",
       "      <td>0</td>\n",
       "      <td>KARACHI: The Sindh government has decided to b...</td>\n",
       "      <td>1</td>\n",
       "    </tr>\n",
       "    <tr>\n",
       "      <td>1</td>\n",
       "      <td>HONG KONG: Asian markets started 2015 on an up...</td>\n",
       "      <td>1</td>\n",
       "    </tr>\n",
       "    <tr>\n",
       "      <td>2</td>\n",
       "      <td>HONG KONG:  Hong Kong shares opened 0.66 perce...</td>\n",
       "      <td>1</td>\n",
       "    </tr>\n",
       "    <tr>\n",
       "      <td>3</td>\n",
       "      <td>HONG KONG: Asian markets tumbled Tuesday follo...</td>\n",
       "      <td>1</td>\n",
       "    </tr>\n",
       "    <tr>\n",
       "      <td>4</td>\n",
       "      <td>NEW YORK: US oil prices Monday slipped below $...</td>\n",
       "      <td>1</td>\n",
       "    </tr>\n",
       "    <tr>\n",
       "      <td>...</td>\n",
       "      <td>...</td>\n",
       "      <td>...</td>\n",
       "    </tr>\n",
       "    <tr>\n",
       "      <td>2687</td>\n",
       "      <td>strong&gt;DUBAI: Dubai International Airport and ...</td>\n",
       "      <td>1</td>\n",
       "    </tr>\n",
       "    <tr>\n",
       "      <td>2688</td>\n",
       "      <td>strong&gt;BEIJING: Former Prime Minister, Shaukat...</td>\n",
       "      <td>1</td>\n",
       "    </tr>\n",
       "    <tr>\n",
       "      <td>2689</td>\n",
       "      <td>strong&gt;WASHINGTON: Uber has grounded its fleet...</td>\n",
       "      <td>1</td>\n",
       "    </tr>\n",
       "    <tr>\n",
       "      <td>2690</td>\n",
       "      <td>strong&gt;BEIJING: The New Development Bank plans...</td>\n",
       "      <td>1</td>\n",
       "    </tr>\n",
       "    <tr>\n",
       "      <td>2691</td>\n",
       "      <td>strong&gt;KARACHI: Karachi-based technology incub...</td>\n",
       "      <td>1</td>\n",
       "    </tr>\n",
       "  </tbody>\n",
       "</table>\n",
       "<p>2692 rows × 2 columns</p>\n",
       "</div>"
      ],
      "text/plain": [
       "                                                Article  NewsType\n",
       "0     KARACHI: The Sindh government has decided to b...         1\n",
       "1     HONG KONG: Asian markets started 2015 on an up...         1\n",
       "2     HONG KONG:  Hong Kong shares opened 0.66 perce...         1\n",
       "3     HONG KONG: Asian markets tumbled Tuesday follo...         1\n",
       "4     NEW YORK: US oil prices Monday slipped below $...         1\n",
       "...                                                 ...       ...\n",
       "2687  strong>DUBAI: Dubai International Airport and ...         1\n",
       "2688  strong>BEIJING: Former Prime Minister, Shaukat...         1\n",
       "2689  strong>WASHINGTON: Uber has grounded its fleet...         1\n",
       "2690  strong>BEIJING: The New Development Bank plans...         1\n",
       "2691  strong>KARACHI: Karachi-based technology incub...         1\n",
       "\n",
       "[2692 rows x 2 columns]"
      ]
     },
     "execution_count": 3,
     "metadata": {},
     "output_type": "execute_result"
    }
   ],
   "source": [
    "data = pd.read_csv('Articles.csv', encoding = 'unicode_escape') # reading data\n",
    "news_df = data.drop(['Date', 'Heading'], axis=1) # dropping unnecessary columns\n",
    "NewsType={'business':1, 'sports':0} # encoding NewsType column which is a categorical  into a numerical feature\n",
    "news_df['NewsType'].replace(NewsType, inplace=True)\n",
    "news_df"
   ]
  },
  {
   "cell_type": "markdown",
   "metadata": {},
   "source": [
    "### Preprocessing Articles"
   ]
  },
  {
   "cell_type": "code",
   "execution_count": 4,
   "metadata": {},
   "outputs": [],
   "source": [
    "def preprocess(article): # preprocessing Articles including Tokenization, removing stopwords, lemmatization and stemming \n",
    "    stemmer = SnowballStemmer('english')\n",
    "    tokens = []\n",
    "    for token in gensim.utils.simple_preprocess(article): # tokenize each article and tokens within an article\n",
    "        if token not in gensim.parsing.preprocessing.STOPWORDS and len(token) > 3: # removing stopwords and keep those words with 4 characters or more\n",
    "            tokens.append(stemmer.stem(WordNetLemmatizer().lemmatize(token, pos='v'))) # lemmatize and then stemming\n",
    "    return tokens"
   ]
  },
  {
   "cell_type": "code",
   "execution_count": 5,
   "metadata": {},
   "outputs": [],
   "source": [
    "preprocessed = news_df['Article'].map(preprocess) # preprocess each article"
   ]
  },
  {
   "cell_type": "markdown",
   "metadata": {},
   "source": [
    "### Creating dictionary and corpus"
   ]
  },
  {
   "cell_type": "code",
   "execution_count": 6,
   "metadata": {},
   "outputs": [],
   "source": [
    "dictionary = gensim.corpora.Dictionary(preprocessed) # create a dictionary from all tokens in all articles\n",
    "dictionary.filter_extremes(no_below=15, no_above=0.5) # filter out tokens in the dictionary by their frequency\n",
    "corpus = [dictionary.doc2bow(art) for art in preprocessed] # create corpora, contains how many times each word in the dictionary appears in a document"
   ]
  },
  {
   "cell_type": "markdown",
   "metadata": {},
   "source": [
    "### LDA model"
   ]
  },
  {
   "cell_type": "code",
   "execution_count": null,
   "metadata": {},
   "outputs": [],
   "source": [
    "topic_model = gensim.models.LdaMulticore(corpus, num_topics=2, id2word=dictionary, passes=10) # create lda model\n",
    "for i, t in topic_model.print_topics(): # print extracted topics \n",
    "    print(f'Topic {i}:\\n{t}\\n\\n')"
   ]
  }
 ],
 "metadata": {
  "kernelspec": {
   "display_name": "Python 3",
   "language": "python",
   "name": "python3"
  },
  "language_info": {
   "codemirror_mode": {
    "name": "ipython",
    "version": 3
   },
   "file_extension": ".py",
   "mimetype": "text/x-python",
   "name": "python",
   "nbconvert_exporter": "python",
   "pygments_lexer": "ipython3",
   "version": "3.7.4"
  }
 },
 "nbformat": 4,
 "nbformat_minor": 2
}
